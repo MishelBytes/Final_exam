{
  "nbformat": 4,
  "nbformat_minor": 0,
  "metadata": {
    "colab": {
      "provenance": []
    },
    "kernelspec": {
      "name": "python3",
      "display_name": "Python 3"
    },
    "language_info": {
      "name": "python"
    }
  },
  "cells": [
    {
      "cell_type": "markdown",
      "source": [
        "## Q1: Data Wrangling"
      ],
      "metadata": {
        "id": "Pt1wQfezQ_U3"
      }
    },
    {
      "cell_type": "code",
      "source": [
        "import pandas as pd\n",
        "import numpy as np\n",
        "import seaborn as sns\n",
        "import matplotlib.pyplot as plt\n",
        "\n",
        "\n",
        "# Load the dataset into a pandas DataFrame\n",
        "data = pd.read_csv('dataset.csv')\n",
        "\n",
        "# Examine the first few rows using the .head() method\n",
        "print(\"First few rows of the dataset:\")\n",
        "print(data.head())\n",
        "\n"
      ],
      "metadata": {
        "colab": {
          "base_uri": "https://localhost:8080/"
        },
        "id": "huosNfmqI0os",
        "outputId": "796c8c7f-b154-417f-a5d2-1db725882988"
      },
      "execution_count": 22,
      "outputs": [
        {
          "output_type": "stream",
          "name": "stdout",
          "text": [
            "First few rows of the dataset:\n",
            "  Date received                      Product  \\\n",
            "0     3/12/2014                     Mortgage   \n",
            "1     1/19/2017                 Student loan   \n",
            "2      4/6/2018  Credit card or prepaid card   \n",
            "3      6/8/2014                  Credit card   \n",
            "4     9/13/2014              Debt collection   \n",
            "\n",
            "                                  Sub-product  \\\n",
            "0                              Other mortgage   \n",
            "1              Federal student loan servicing   \n",
            "2  General-purpose credit card or charge card   \n",
            "3                                         NaN   \n",
            "4                                 Credit card   \n",
            "\n",
            "                        Consumer complaint narrative Company public response  \\\n",
            "0                                                NaN                     NaN   \n",
            "1  When my loan was switched over to Navient i wa...                     NaN   \n",
            "2  I tried to sign up for a spending monitoring p...                     NaN   \n",
            "3                                                NaN                     NaN   \n",
            "4                                                NaN                     NaN   \n",
            "\n",
            "                             Company State ZIP code Submitted via  \\\n",
            "0               M&T BANK CORPORATION    MI    48382      Referral   \n",
            "1            Navient Solutions, LLC.    LA      NaN           Web   \n",
            "2  CAPITAL ONE FINANCIAL CORPORATION    VA      NaN           Web   \n",
            "3           AMERICAN EXPRESS COMPANY    ID    83854           Web   \n",
            "4                     CITIBANK, N.A.    VA    23233           Web   \n",
            "\n",
            "  Company response to consumer Timely response? Consumer disputed?  \n",
            "0      Closed with explanation              Yes                 No  \n",
            "1      Closed with explanation              Yes                 No  \n",
            "2      Closed with explanation              Yes                NaN  \n",
            "3      Closed with explanation              Yes                Yes  \n",
            "4      Closed with explanation              Yes                Yes  \n"
          ]
        }
      ]
    },
    {
      "cell_type": "code",
      "source": [
        "# Check the dimensions of the dataset using the .shape attribute\n",
        "rows, columns = data.shape\n",
        "print(\"\\nNumber of rows:\", rows)\n",
        "print(\"Number of columns:\", columns)\n",
        "\n"
      ],
      "metadata": {
        "colab": {
          "base_uri": "https://localhost:8080/"
        },
        "id": "ietjPdGZPMcM",
        "outputId": "65e60c15-c906-4c36-dc5e-4e7a0c163a7e"
      },
      "execution_count": 23,
      "outputs": [
        {
          "output_type": "stream",
          "name": "stdout",
          "text": [
            "\n",
            "Number of rows: 99\n",
            "Number of columns: 12\n"
          ]
        }
      ]
    },
    {
      "cell_type": "code",
      "source": [
        "# Get an overview of data types and missing values using the .info() method\n",
        "print(\"\\nOverview of data types and missing values:\")\n",
        "print(data.info())"
      ],
      "metadata": {
        "colab": {
          "base_uri": "https://localhost:8080/"
        },
        "id": "xQq4fldUQ6Ym",
        "outputId": "5dd786e8-2e99-4934-ffb2-7ea1ebd78b3d"
      },
      "execution_count": 24,
      "outputs": [
        {
          "output_type": "stream",
          "name": "stdout",
          "text": [
            "\n",
            "Overview of data types and missing values:\n",
            "<class 'pandas.core.frame.DataFrame'>\n",
            "RangeIndex: 99 entries, 0 to 98\n",
            "Data columns (total 12 columns):\n",
            " #   Column                        Non-Null Count  Dtype \n",
            "---  ------                        --------------  ----- \n",
            " 0   Date received                 99 non-null     object\n",
            " 1   Product                       99 non-null     object\n",
            " 2   Sub-product                   86 non-null     object\n",
            " 3   Consumer complaint narrative  16 non-null     object\n",
            " 4   Company public response       33 non-null     object\n",
            " 5   Company                       99 non-null     object\n",
            " 6   State                         98 non-null     object\n",
            " 7   ZIP code                      89 non-null     object\n",
            " 8   Submitted via                 99 non-null     object\n",
            " 9   Company response to consumer  99 non-null     object\n",
            " 10  Timely response?              99 non-null     object\n",
            " 11  Consumer disputed?            75 non-null     object\n",
            "dtypes: object(12)\n",
            "memory usage: 9.4+ KB\n",
            "None\n"
          ]
        }
      ]
    },
    {
      "cell_type": "code",
      "source": [
        "missing_values_sum = data.isnull().sum()\n",
        "print(\"Missing values in each column:\")\n",
        "print(missing_values_sum)"
      ],
      "metadata": {
        "colab": {
          "base_uri": "https://localhost:8080/"
        },
        "id": "wCujF8iAW9g3",
        "outputId": "7fd267fc-d71a-4991-e95d-8a12dc69b127"
      },
      "execution_count": 25,
      "outputs": [
        {
          "output_type": "stream",
          "name": "stdout",
          "text": [
            "Missing values in each column:\n",
            "Date received                    0\n",
            "Product                          0\n",
            "Sub-product                     13\n",
            "Consumer complaint narrative    83\n",
            "Company public response         66\n",
            "Company                          0\n",
            "State                            1\n",
            "ZIP code                        10\n",
            "Submitted via                    0\n",
            "Company response to consumer     0\n",
            "Timely response?                 0\n",
            "Consumer disputed?              24\n",
            "dtype: int64\n"
          ]
        }
      ]
    },
    {
      "cell_type": "code",
      "source": [
        "# Analysis would be state focused based only\n",
        "\n",
        "data.drop('ZIP code', axis=1, inplace=True)\n",
        "\n",
        "\n",
        "data.drop('Date received', axis=1, inplace=True)\n",
        "data.drop('Company public response', axis=1, inplace=True)\n",
        "data.drop('Sub-product', axis=1, inplace=True)\n",
        "\n"
      ],
      "metadata": {
        "id": "Jku-ksGgRMjc"
      },
      "execution_count": 26,
      "outputs": []
    },
    {
      "cell_type": "code",
      "source": [
        "\n",
        "data['Consumer disputed?'].fillna('N/A', inplace=True)\n",
        "\n"
      ],
      "metadata": {
        "id": "wYTxn8g0UxkL"
      },
      "execution_count": 27,
      "outputs": []
    },
    {
      "cell_type": "code",
      "source": [
        "data.dropna(subset=['State'], inplace=True)"
      ],
      "metadata": {
        "id": "nvCmFLp5Vytd"
      },
      "execution_count": 28,
      "outputs": []
    },
    {
      "cell_type": "code",
      "source": [
        "data['Consumer complaint narrative'].fillna('Not Provided', inplace=True)\n"
      ],
      "metadata": {
        "id": "2nJUqd8LWQF_"
      },
      "execution_count": 29,
      "outputs": []
    },
    {
      "cell_type": "code",
      "source": [
        "missing_values_sum = data.isnull().sum()\n",
        "print(\"Missing values in each column:\")\n",
        "print(missing_values_sum)"
      ],
      "metadata": {
        "colab": {
          "base_uri": "https://localhost:8080/"
        },
        "id": "jZjj8TMwYk9q",
        "outputId": "4a89d520-4976-473a-e680-f3b4cddf4893"
      },
      "execution_count": 30,
      "outputs": [
        {
          "output_type": "stream",
          "name": "stdout",
          "text": [
            "Missing values in each column:\n",
            "Product                         0\n",
            "Consumer complaint narrative    0\n",
            "Company                         0\n",
            "State                           0\n",
            "Submitted via                   0\n",
            "Company response to consumer    0\n",
            "Timely response?                0\n",
            "Consumer disputed?              0\n",
            "dtype: int64\n"
          ]
        }
      ]
    },
    {
      "cell_type": "markdown",
      "source": [
        "## **Q2: Business Questions**"
      ],
      "metadata": {
        "id": "DNT-rNNlbs31"
      }
    },
    {
      "cell_type": "markdown",
      "source": [
        "**1. Product Analysis:**\n",
        "What are the top three products that customers complain about the most? For example, is it credit cards, mortgages, or something else? We want to understand what's bothering customers the most. Are there any specific patterns or trends in consumer complaints for these products?\n",
        "\n",
        "**2. Demographic Patterns:**\n",
        "Which states have the highest number of consumer complaints? Are there certain states where specific products or companies receive more complaints?Do people in certain states tend to complain more than people in other states? We're curious if there are states where people are generally happier with their products and services.\n",
        "\n",
        "**3. Consumer Disputes and Company Response:**\n",
        "Do consumer disputes vary based on the company's response to the complaint? Are there particular company responses that seem to lead to higher or lower consumer disputes? Does the way a company responds to a complaint make a difference?\n",
        "\n",
        "**4. Consumer Narratives Sentiment Analysis?**\n",
        "After performing sentiment analysis on consumer complaint narratives, which products or companies tend to receive more negative feedback? Are there common themes or issues mentioned in these negative narratives?\n",
        "\n",
        "**5. How do Consumer Complaints Vary by Submission Method?**\n",
        "Are there any differences in the types of complaints based on how customers submitted them (e.g., web, online, phone)? We're curious if certain submission methods lead to more critical complaints or if they're associated with specific products.\n"
      ],
      "metadata": {
        "id": "oOZUQl4Gb2Gf"
      }
    },
    {
      "cell_type": "markdown",
      "source": [
        "## Machine Learning Methodolgy"
      ],
      "metadata": {
        "id": "yQPttFfMe3-v"
      }
    },
    {
      "cell_type": "markdown",
      "source": [
        "**Machine Learning Methodolgy could be used to improve consumer dispute rate, the following steps could be utilized :**\n",
        "\n",
        "1. Data Preprocessing\n",
        "2. Feature Engineering\n",
        "3. Model Selection\n",
        "4. Model Evaluation\n",
        "6. Text Analysis (optional)\n",
        "\n"
      ],
      "metadata": {
        "id": "vRi6ZhhzfUCu"
      }
    },
    {
      "cell_type": "markdown",
      "source": [
        "## Q3: Consume Dispute Analysis\n",
        "## (C)"
      ],
      "metadata": {
        "id": "kmyO9wMq6tuQ"
      }
    },
    {
      "cell_type": "code",
      "source": [
        "from sklearn.preprocessing import LabelEncoder\n",
        "\n",
        "lb = LabelEncoder()\n",
        "data['Product'] = lb.fit_transform(data['Product'])\n",
        "data['State'] = lb.fit_transform(data['State'])\n",
        "data['Company response to consumer'] = lb.fit_transform(data['Company response to consumer'])\n",
        "data['Submitted via'] = lb.fit_transform(data['Submitted via'])\n",
        "data['Consumer disputed?'] = lb.fit_transform(data['Consumer disputed?'])\n",
        "data['Timely response?'] = lb.fit_transform(data['Product'])\n",
        "data"
      ],
      "metadata": {
        "colab": {
          "base_uri": "https://localhost:8080/",
          "height": 649
        },
        "id": "OP1IfmO05zLu",
        "outputId": "1dcb4d79-7dcc-4d52-8245-b2d5deb73b5c"
      },
      "execution_count": 31,
      "outputs": [
        {
          "output_type": "execute_result",
          "data": {
            "text/plain": [
              "    Product                       Consumer complaint narrative  \\\n",
              "0         9                                       Not Provided   \n",
              "1        10  When my loan was switched over to Navient i wa...   \n",
              "2         3  I tried to sign up for a spending monitoring p...   \n",
              "3         2                                       Not Provided   \n",
              "4         6                                       Not Provided   \n",
              "..      ...                                                ...   \n",
              "94        8                                       Not Provided   \n",
              "95        9                                       Not Provided   \n",
              "96        7                                       Not Provided   \n",
              "97        4                                       Not Provided   \n",
              "98        6                                       Not Provided   \n",
              "\n",
              "                                    Company  State  Submitted via  \\\n",
              "0                      M&T BANK CORPORATION     14              3   \n",
              "1                   Navient Solutions, LLC.     10              4   \n",
              "2         CAPITAL ONE FINANCIAL CORPORATION     30              4   \n",
              "3                  AMERICAN EXPRESS COMPANY      7              4   \n",
              "4                            CITIBANK, N.A.     30              4   \n",
              "..                                      ...    ...            ...   \n",
              "94  MONEYGRAM PAYMENT SYSTEMS WORLDWIDE INC     14              4   \n",
              "95                      NATIONSTAR MORTGAGE      3              4   \n",
              "96                       CCI Financial, Inc      1              4   \n",
              "97      Experian Information Solutions Inc.      4              4   \n",
              "98                       Solidus Group LLC.     12              1   \n",
              "\n",
              "    Company response to consumer  Timely response?  Consumer disputed?  \n",
              "0                              0                 9                   1  \n",
              "1                              0                10                   1  \n",
              "2                              0                 3                   0  \n",
              "3                              0                 2                   2  \n",
              "4                              0                 6                   2  \n",
              "..                           ...               ...                 ...  \n",
              "94                             1                 8                   1  \n",
              "95                             0                 9                   1  \n",
              "96                             0                 7                   0  \n",
              "97                             2                 4                   1  \n",
              "98                             0                 6                   1  \n",
              "\n",
              "[98 rows x 8 columns]"
            ],
            "text/html": [
              "\n",
              "  <div id=\"df-e5dd5617-071f-4dfe-827d-af4343accba4\" class=\"colab-df-container\">\n",
              "    <div>\n",
              "<style scoped>\n",
              "    .dataframe tbody tr th:only-of-type {\n",
              "        vertical-align: middle;\n",
              "    }\n",
              "\n",
              "    .dataframe tbody tr th {\n",
              "        vertical-align: top;\n",
              "    }\n",
              "\n",
              "    .dataframe thead th {\n",
              "        text-align: right;\n",
              "    }\n",
              "</style>\n",
              "<table border=\"1\" class=\"dataframe\">\n",
              "  <thead>\n",
              "    <tr style=\"text-align: right;\">\n",
              "      <th></th>\n",
              "      <th>Product</th>\n",
              "      <th>Consumer complaint narrative</th>\n",
              "      <th>Company</th>\n",
              "      <th>State</th>\n",
              "      <th>Submitted via</th>\n",
              "      <th>Company response to consumer</th>\n",
              "      <th>Timely response?</th>\n",
              "      <th>Consumer disputed?</th>\n",
              "    </tr>\n",
              "  </thead>\n",
              "  <tbody>\n",
              "    <tr>\n",
              "      <th>0</th>\n",
              "      <td>9</td>\n",
              "      <td>Not Provided</td>\n",
              "      <td>M&amp;T BANK CORPORATION</td>\n",
              "      <td>14</td>\n",
              "      <td>3</td>\n",
              "      <td>0</td>\n",
              "      <td>9</td>\n",
              "      <td>1</td>\n",
              "    </tr>\n",
              "    <tr>\n",
              "      <th>1</th>\n",
              "      <td>10</td>\n",
              "      <td>When my loan was switched over to Navient i wa...</td>\n",
              "      <td>Navient Solutions, LLC.</td>\n",
              "      <td>10</td>\n",
              "      <td>4</td>\n",
              "      <td>0</td>\n",
              "      <td>10</td>\n",
              "      <td>1</td>\n",
              "    </tr>\n",
              "    <tr>\n",
              "      <th>2</th>\n",
              "      <td>3</td>\n",
              "      <td>I tried to sign up for a spending monitoring p...</td>\n",
              "      <td>CAPITAL ONE FINANCIAL CORPORATION</td>\n",
              "      <td>30</td>\n",
              "      <td>4</td>\n",
              "      <td>0</td>\n",
              "      <td>3</td>\n",
              "      <td>0</td>\n",
              "    </tr>\n",
              "    <tr>\n",
              "      <th>3</th>\n",
              "      <td>2</td>\n",
              "      <td>Not Provided</td>\n",
              "      <td>AMERICAN EXPRESS COMPANY</td>\n",
              "      <td>7</td>\n",
              "      <td>4</td>\n",
              "      <td>0</td>\n",
              "      <td>2</td>\n",
              "      <td>2</td>\n",
              "    </tr>\n",
              "    <tr>\n",
              "      <th>4</th>\n",
              "      <td>6</td>\n",
              "      <td>Not Provided</td>\n",
              "      <td>CITIBANK, N.A.</td>\n",
              "      <td>30</td>\n",
              "      <td>4</td>\n",
              "      <td>0</td>\n",
              "      <td>6</td>\n",
              "      <td>2</td>\n",
              "    </tr>\n",
              "    <tr>\n",
              "      <th>...</th>\n",
              "      <td>...</td>\n",
              "      <td>...</td>\n",
              "      <td>...</td>\n",
              "      <td>...</td>\n",
              "      <td>...</td>\n",
              "      <td>...</td>\n",
              "      <td>...</td>\n",
              "      <td>...</td>\n",
              "    </tr>\n",
              "    <tr>\n",
              "      <th>94</th>\n",
              "      <td>8</td>\n",
              "      <td>Not Provided</td>\n",
              "      <td>MONEYGRAM PAYMENT SYSTEMS WORLDWIDE INC</td>\n",
              "      <td>14</td>\n",
              "      <td>4</td>\n",
              "      <td>1</td>\n",
              "      <td>8</td>\n",
              "      <td>1</td>\n",
              "    </tr>\n",
              "    <tr>\n",
              "      <th>95</th>\n",
              "      <td>9</td>\n",
              "      <td>Not Provided</td>\n",
              "      <td>NATIONSTAR MORTGAGE</td>\n",
              "      <td>3</td>\n",
              "      <td>4</td>\n",
              "      <td>0</td>\n",
              "      <td>9</td>\n",
              "      <td>1</td>\n",
              "    </tr>\n",
              "    <tr>\n",
              "      <th>96</th>\n",
              "      <td>7</td>\n",
              "      <td>Not Provided</td>\n",
              "      <td>CCI Financial, Inc</td>\n",
              "      <td>1</td>\n",
              "      <td>4</td>\n",
              "      <td>0</td>\n",
              "      <td>7</td>\n",
              "      <td>0</td>\n",
              "    </tr>\n",
              "    <tr>\n",
              "      <th>97</th>\n",
              "      <td>4</td>\n",
              "      <td>Not Provided</td>\n",
              "      <td>Experian Information Solutions Inc.</td>\n",
              "      <td>4</td>\n",
              "      <td>4</td>\n",
              "      <td>2</td>\n",
              "      <td>4</td>\n",
              "      <td>1</td>\n",
              "    </tr>\n",
              "    <tr>\n",
              "      <th>98</th>\n",
              "      <td>6</td>\n",
              "      <td>Not Provided</td>\n",
              "      <td>Solidus Group LLC.</td>\n",
              "      <td>12</td>\n",
              "      <td>1</td>\n",
              "      <td>0</td>\n",
              "      <td>6</td>\n",
              "      <td>1</td>\n",
              "    </tr>\n",
              "  </tbody>\n",
              "</table>\n",
              "<p>98 rows × 8 columns</p>\n",
              "</div>\n",
              "    <div class=\"colab-df-buttons\">\n",
              "\n",
              "  <div class=\"colab-df-container\">\n",
              "    <button class=\"colab-df-convert\" onclick=\"convertToInteractive('df-e5dd5617-071f-4dfe-827d-af4343accba4')\"\n",
              "            title=\"Convert this dataframe to an interactive table.\"\n",
              "            style=\"display:none;\">\n",
              "\n",
              "  <svg xmlns=\"http://www.w3.org/2000/svg\" height=\"24px\" viewBox=\"0 -960 960 960\">\n",
              "    <path d=\"M120-120v-720h720v720H120Zm60-500h600v-160H180v160Zm220 220h160v-160H400v160Zm0 220h160v-160H400v160ZM180-400h160v-160H180v160Zm440 0h160v-160H620v160ZM180-180h160v-160H180v160Zm440 0h160v-160H620v160Z\"/>\n",
              "  </svg>\n",
              "    </button>\n",
              "\n",
              "  <style>\n",
              "    .colab-df-container {\n",
              "      display:flex;\n",
              "      gap: 12px;\n",
              "    }\n",
              "\n",
              "    .colab-df-convert {\n",
              "      background-color: #E8F0FE;\n",
              "      border: none;\n",
              "      border-radius: 50%;\n",
              "      cursor: pointer;\n",
              "      display: none;\n",
              "      fill: #1967D2;\n",
              "      height: 32px;\n",
              "      padding: 0 0 0 0;\n",
              "      width: 32px;\n",
              "    }\n",
              "\n",
              "    .colab-df-convert:hover {\n",
              "      background-color: #E2EBFA;\n",
              "      box-shadow: 0px 1px 2px rgba(60, 64, 67, 0.3), 0px 1px 3px 1px rgba(60, 64, 67, 0.15);\n",
              "      fill: #174EA6;\n",
              "    }\n",
              "\n",
              "    .colab-df-buttons div {\n",
              "      margin-bottom: 4px;\n",
              "    }\n",
              "\n",
              "    [theme=dark] .colab-df-convert {\n",
              "      background-color: #3B4455;\n",
              "      fill: #D2E3FC;\n",
              "    }\n",
              "\n",
              "    [theme=dark] .colab-df-convert:hover {\n",
              "      background-color: #434B5C;\n",
              "      box-shadow: 0px 1px 3px 1px rgba(0, 0, 0, 0.15);\n",
              "      filter: drop-shadow(0px 1px 2px rgba(0, 0, 0, 0.3));\n",
              "      fill: #FFFFFF;\n",
              "    }\n",
              "  </style>\n",
              "\n",
              "    <script>\n",
              "      const buttonEl =\n",
              "        document.querySelector('#df-e5dd5617-071f-4dfe-827d-af4343accba4 button.colab-df-convert');\n",
              "      buttonEl.style.display =\n",
              "        google.colab.kernel.accessAllowed ? 'block' : 'none';\n",
              "\n",
              "      async function convertToInteractive(key) {\n",
              "        const element = document.querySelector('#df-e5dd5617-071f-4dfe-827d-af4343accba4');\n",
              "        const dataTable =\n",
              "          await google.colab.kernel.invokeFunction('convertToInteractive',\n",
              "                                                    [key], {});\n",
              "        if (!dataTable) return;\n",
              "\n",
              "        const docLinkHtml = 'Like what you see? Visit the ' +\n",
              "          '<a target=\"_blank\" href=https://colab.research.google.com/notebooks/data_table.ipynb>data table notebook</a>'\n",
              "          + ' to learn more about interactive tables.';\n",
              "        element.innerHTML = '';\n",
              "        dataTable['output_type'] = 'display_data';\n",
              "        await google.colab.output.renderOutput(dataTable, element);\n",
              "        const docLink = document.createElement('div');\n",
              "        docLink.innerHTML = docLinkHtml;\n",
              "        element.appendChild(docLink);\n",
              "      }\n",
              "    </script>\n",
              "  </div>\n",
              "\n",
              "\n",
              "<div id=\"df-e3e773e7-a898-4aab-8dae-6cf1bc6d949c\">\n",
              "  <button class=\"colab-df-quickchart\" onclick=\"quickchart('df-e3e773e7-a898-4aab-8dae-6cf1bc6d949c')\"\n",
              "            title=\"Suggest charts.\"\n",
              "            style=\"display:none;\">\n",
              "\n",
              "<svg xmlns=\"http://www.w3.org/2000/svg\" height=\"24px\"viewBox=\"0 0 24 24\"\n",
              "     width=\"24px\">\n",
              "    <g>\n",
              "        <path d=\"M19 3H5c-1.1 0-2 .9-2 2v14c0 1.1.9 2 2 2h14c1.1 0 2-.9 2-2V5c0-1.1-.9-2-2-2zM9 17H7v-7h2v7zm4 0h-2V7h2v10zm4 0h-2v-4h2v4z\"/>\n",
              "    </g>\n",
              "</svg>\n",
              "  </button>\n",
              "\n",
              "<style>\n",
              "  .colab-df-quickchart {\n",
              "    background-color: #E8F0FE;\n",
              "    border: none;\n",
              "    border-radius: 50%;\n",
              "    cursor: pointer;\n",
              "    display: none;\n",
              "    fill: #1967D2;\n",
              "    height: 32px;\n",
              "    padding: 0 0 0 0;\n",
              "    width: 32px;\n",
              "  }\n",
              "\n",
              "  .colab-df-quickchart:hover {\n",
              "    background-color: #E2EBFA;\n",
              "    box-shadow: 0px 1px 2px rgba(60, 64, 67, 0.3), 0px 1px 3px 1px rgba(60, 64, 67, 0.15);\n",
              "    fill: #174EA6;\n",
              "  }\n",
              "\n",
              "  [theme=dark] .colab-df-quickchart {\n",
              "    background-color: #3B4455;\n",
              "    fill: #D2E3FC;\n",
              "  }\n",
              "\n",
              "  [theme=dark] .colab-df-quickchart:hover {\n",
              "    background-color: #434B5C;\n",
              "    box-shadow: 0px 1px 3px 1px rgba(0, 0, 0, 0.15);\n",
              "    filter: drop-shadow(0px 1px 2px rgba(0, 0, 0, 0.3));\n",
              "    fill: #FFFFFF;\n",
              "  }\n",
              "</style>\n",
              "\n",
              "  <script>\n",
              "    async function quickchart(key) {\n",
              "      const charts = await google.colab.kernel.invokeFunction(\n",
              "          'suggestCharts', [key], {});\n",
              "    }\n",
              "    (() => {\n",
              "      let quickchartButtonEl =\n",
              "        document.querySelector('#df-e3e773e7-a898-4aab-8dae-6cf1bc6d949c button');\n",
              "      quickchartButtonEl.style.display =\n",
              "        google.colab.kernel.accessAllowed ? 'block' : 'none';\n",
              "    })();\n",
              "  </script>\n",
              "</div>\n",
              "    </div>\n",
              "  </div>\n"
            ]
          },
          "metadata": {},
          "execution_count": 31
        }
      ]
    },
    {
      "cell_type": "code",
      "source": [
        "fig, ax = plt.subplots(figsize=(5, 3))\n",
        "sns.countplot(data=data, x='Consumer disputed?')\n",
        "plt.title('Status of consumer disputes.')\n",
        "plt.show()"
      ],
      "metadata": {
        "colab": {
          "base_uri": "https://localhost:8080/",
          "height": 333
        },
        "id": "3nWjFv5B6aFx",
        "outputId": "e0e3bb61-b3a3-4b60-b9fe-920ad83e183b"
      },
      "execution_count": 35,
      "outputs": [
        {
          "output_type": "display_data",
          "data": {
            "text/plain": [
              "<Figure size 500x300 with 1 Axes>"
            ],
            "image/png": "[encoded data removed]"
          },
          "metadata": {}
        }
      ]
    },
    {
      "cell_type": "code",
      "source": [
        "fig, ax = plt.subplots(figsize=(10, 5))\n",
        "sns.countplot(data=data, x='Timely response?', hue='Consumer disputed?')\n",
        "plt.title('Proportion of consumers who raised disputes and received a prompt response')\n",
        "plt.show()"
      ],
      "metadata": {
        "colab": {
          "base_uri": "https://localhost:8080/",
          "height": 487
        },
        "id": "hFi8PpRd63pO",
        "outputId": "5377aade-26eb-4967-b33e-8b936696caa7"
      },
      "execution_count": 36,
      "outputs": [
        {
          "output_type": "display_data",
          "data": {
            "text/plain": [
              "<Figure size 1000x500 with 1 Axes>"
            ],
            "image/png": "[encoded data removed]"
          },
          "metadata": {}
        }
      ]
    },
    {
      "cell_type": "code",
      "source": [
        "submission_source = pd.crosstab(data['Submitted via'], data['Consumer disputed?'])\n",
        "print(submission_source)"
      ],
      "metadata": {
        "colab": {
          "base_uri": "https://localhost:8080/"
        },
        "id": "uiPO43TP7dI2",
        "outputId": "ca7f5c17-cfef-495a-eab8-5a383bc1c69d"
      },
      "execution_count": 37,
      "outputs": [
        {
          "output_type": "stream",
          "name": "stdout",
          "text": [
            "Consumer disputed?   0   1   2\n",
            "Submitted via                 \n",
            "0                    1   1   1\n",
            "1                    0   3   0\n",
            "2                    0   3   0\n",
            "3                    0  12   5\n",
            "4                   22  37  13\n"
          ]
        }
      ]
    },
    {
      "cell_type": "code",
      "source": [
        "fig, ax = plt.subplots(figsize=(10, 5))\n",
        "sns.countplot(data=data, x='Submitted via', hue='Consumer disputed?')\n",
        "plt.title('Breakdown of consumer disputes categorized by the method of complaints')\n",
        "plt.show()"
      ],
      "metadata": {
        "colab": {
          "base_uri": "https://localhost:8080/",
          "height": 487
        },
        "id": "bZtlXby-8EFC",
        "outputId": "deefda5f-06da-4095-b8e5-7e93352c4e04"
      },
      "execution_count": 38,
      "outputs": [
        {
          "output_type": "display_data",
          "data": {
            "text/plain": [
              "<Figure size 1000x500 with 1 Axes>"
            ],
            "image/png": "[encoded data removed]"
          },
          "metadata": {}
        }
      ]
    },
    {
      "cell_type": "code",
      "source": [
        "top_seven_states = data['State'].value_counts().head(7)\n",
        "top_seven_states"
      ],
      "metadata": {
        "colab": {
          "base_uri": "https://localhost:8080/"
        },
        "id": "KsVPgqJV8Pvh",
        "outputId": "dd1f13a1-0571-44b8-9aa3-06aa1f78194b"
      },
      "execution_count": 39,
      "outputs": [
        {
          "output_type": "execute_result",
          "data": {
            "text/plain": [
              "1     15\n",
              "4      9\n",
              "29     8\n",
              "5      6\n",
              "12     5\n",
              "21     5\n",
              "18     4\n",
              "Name: State, dtype: int64"
            ]
          },
          "metadata": {},
          "execution_count": 39
        }
      ]
    },
    {
      "cell_type": "code",
      "source": [
        "plt.figure(figsize=(10, 6))\n",
        "top_seven_states.plot(kind='bar')\n",
        "plt.title('Top Seven States')\n",
        "plt.xlabel('States')\n",
        "plt.ylabel('Count')\n",
        "plt.show()"
      ],
      "metadata": {
        "colab": {
          "base_uri": "https://localhost:8080/",
          "height": 568
        },
        "id": "FEXhia138i1Q",
        "outputId": "d9160572-21a7-45be-b047-d32caae1b3b6"
      },
      "execution_count": 40,
      "outputs": [
        {
          "output_type": "display_data",
          "data": {
            "text/plain": [
              "<Figure size 1000x600 with 1 Axes>"
            ],
            "image/png": "[encoded data removed]"
          },
          "metadata": {}
        }
      ]
    },
    {
      "cell_type": "markdown",
      "source": [
        "# Q3: Three ML Models with Justification\n",
        "## (a)(b)"
      ],
      "metadata": {
        "id": "23khV-QC-OjZ"
      }
    },
    {
      "cell_type": "markdown",
      "source": [
        "**Model 1: Logistic Regression**\n",
        "\n",
        "Description:\n",
        "Logistic Regression is a simple yet effective binary classification algorithm. It models the probability of the target class (in this case, whether a consumer dispute occurs) based on the input features.\n",
        "\n",
        "Justification:\n",
        "Logistic Regression is a good starting point for binary classification tasks.\n",
        "It provides interpretability, which is valuable for understanding the impact of features. Given that the dataset is not extremely large, Logistic Regression can be trained quickly.\n",
        "\n",
        "Features:\n",
        "Product\n",
        "Company response to consumer\n",
        "Timely response?\n",
        "State\n",
        "\n",
        "**Model 2: Random Forest Classifier**\n",
        "\n",
        "Description:\n",
        "Random Forest is an ensemble learning method that combines multiple decision trees to make predictions. It's robust and can capture complex relationships in the data.\n",
        "\n",
        "Justification:\n",
        "Random Forest can handle non-linear relationships in features effectively.\n",
        "It can deal with categorical variables and missing values well. The ensemble nature of Random Forest reduces the risk of overfitting.\n",
        "\n",
        "Features:\n",
        "Product\n",
        "Company response to consumer\n",
        "Timely response?\n",
        "State\n",
        "Date-related features (day of the week, month, etc.)\n",
        "\n",
        "\n",
        "**Model 3: Gradient Boosting Classifier**\n",
        "\n",
        "Description:\n",
        "Gradient Boosting is another ensemble technique that combines weak learners (usually decision trees) to create a strong predictive model. It iteratively improves model performance by focusing on the samples that were misclassified in previous iterations.\n",
        "\n",
        "Justification:\n",
        "Gradient Boosting can capture complex interactions between features.\n",
        "It's less prone to overfitting compared to individual decision trees.\n",
        "It can handle mixed data types, including categorical features.\n",
        "\n",
        "Features:\n",
        "Product\n",
        "Company response to consumer\n",
        "Timely response?\n",
        "State\n",
        "Date-related features (day of the week, month, etc.)\n",
        "Consumer complaint narrative (if used as text features)\n",
        "\n",
        "In all three models, it's important to preprocess the data, handle missing values, encode categorical features appropriately, and potentially balance the class distribution. Additionally, feature importance analysis can help understand which factors contribute most to consumer disputes.\n",
        "\n"
      ],
      "metadata": {
        "id": "RloqT6cs-KrX"
      }
    },
    {
      "cell_type": "code",
      "source": [],
      "metadata": {
        "id": "XgVDf_5L_Mnl"
      },
      "execution_count": null,
      "outputs": []
    }
  ]
}