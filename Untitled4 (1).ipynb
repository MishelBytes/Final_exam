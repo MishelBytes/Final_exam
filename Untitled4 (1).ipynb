{
  "nbformat": 4,
  "nbformat_minor": 0,
  "metadata": {
    "colab": {
      "provenance": []
    },
    "kernelspec": {
      "name": "python3",
      "display_name": "Python 3"
    },
    "language_info": {
      "name": "python"
    }
  },
  "cells": [
    {
      "cell_type": "markdown",
      "source": [
        "## Q1: Data Wrangling"
      ],
      "metadata": {
        "id": "Pt1wQfezQ_U3"
      }
    },
    {
      "cell_type": "code",
      "source": [
        "import pandas as pd\n",
        "\n",
        "# Load the dataset into a pandas DataFrame\n",
        "data = pd.read_csv('dataset.csv')\n",
        "\n",
        "# Examine the first few rows using the .head() method\n",
        "print(\"First few rows of the dataset:\")\n",
        "print(data.head())\n",
        "\n"
      ],
      "metadata": {
        "colab": {
          "base_uri": "https://localhost:8080/"
        },
        "id": "huosNfmqI0os",
        "outputId": "0c3f7a8d-2724-4abc-9fb8-361bda506103"
      },
      "execution_count": 44,
      "outputs": [
        {
          "output_type": "stream",
          "name": "stdout",
          "text": [
            "First few rows of the dataset:\n",
            "  Date received                      Product  \\\n",
            "0     3/12/2014                     Mortgage   \n",
            "1     1/19/2017                 Student loan   \n",
            "2      4/6/2018  Credit card or prepaid card   \n",
            "3      6/8/2014                  Credit card   \n",
            "4     9/13/2014              Debt collection   \n",
            "\n",
            "                                  Sub-product  \\\n",
            "0                              Other mortgage   \n",
            "1              Federal student loan servicing   \n",
            "2  General-purpose credit card or charge card   \n",
            "3                                         NaN   \n",
            "4                                 Credit card   \n",
            "\n",
            "                        Consumer complaint narrative Company public response  \\\n",
            "0                                                NaN                     NaN   \n",
            "1  When my loan was switched over to Navient i wa...                     NaN   \n",
            "2  I tried to sign up for a spending monitoring p...                     NaN   \n",
            "3                                                NaN                     NaN   \n",
            "4                                                NaN                     NaN   \n",
            "\n",
            "                             Company State ZIP code Submitted via  \\\n",
            "0               M&T BANK CORPORATION    MI    48382      Referral   \n",
            "1            Navient Solutions, LLC.    LA      NaN           Web   \n",
            "2  CAPITAL ONE FINANCIAL CORPORATION    VA      NaN           Web   \n",
            "3           AMERICAN EXPRESS COMPANY    ID    83854           Web   \n",
            "4                     CITIBANK, N.A.    VA    23233           Web   \n",
            "\n",
            "  Company response to consumer Timely response? Consumer disputed?  \n",
            "0      Closed with explanation              Yes                 No  \n",
            "1      Closed with explanation              Yes                 No  \n",
            "2      Closed with explanation              Yes                NaN  \n",
            "3      Closed with explanation              Yes                Yes  \n",
            "4      Closed with explanation              Yes                Yes  \n"
          ]
        }
      ]
    },
    {
      "cell_type": "code",
      "source": [
        "# Check the dimensions of the dataset using the .shape attribute\n",
        "rows, columns = data.shape\n",
        "print(\"\\nNumber of rows:\", rows)\n",
        "print(\"Number of columns:\", columns)\n",
        "\n"
      ],
      "metadata": {
        "colab": {
          "base_uri": "https://localhost:8080/"
        },
        "id": "ietjPdGZPMcM",
        "outputId": "d0ace9d0-2a85-44ba-972a-92a9650800c9"
      },
      "execution_count": 45,
      "outputs": [
        {
          "output_type": "stream",
          "name": "stdout",
          "text": [
            "\n",
            "Number of rows: 99\n",
            "Number of columns: 12\n"
          ]
        }
      ]
    },
    {
      "cell_type": "code",
      "source": [
        "# Get an overview of data types and missing values using the .info() method\n",
        "print(\"\\nOverview of data types and missing values:\")\n",
        "print(data.info())"
      ],
      "metadata": {
        "colab": {
          "base_uri": "https://localhost:8080/"
        },
        "id": "xQq4fldUQ6Ym",
        "outputId": "f1713eff-3995-480c-dce8-276074bd7890"
      },
      "execution_count": 46,
      "outputs": [
        {
          "output_type": "stream",
          "name": "stdout",
          "text": [
            "\n",
            "Overview of data types and missing values:\n",
            "<class 'pandas.core.frame.DataFrame'>\n",
            "RangeIndex: 99 entries, 0 to 98\n",
            "Data columns (total 12 columns):\n",
            " #   Column                        Non-Null Count  Dtype \n",
            "---  ------                        --------------  ----- \n",
            " 0   Date received                 99 non-null     object\n",
            " 1   Product                       99 non-null     object\n",
            " 2   Sub-product                   86 non-null     object\n",
            " 3   Consumer complaint narrative  16 non-null     object\n",
            " 4   Company public response       33 non-null     object\n",
            " 5   Company                       99 non-null     object\n",
            " 6   State                         98 non-null     object\n",
            " 7   ZIP code                      89 non-null     object\n",
            " 8   Submitted via                 99 non-null     object\n",
            " 9   Company response to consumer  99 non-null     object\n",
            " 10  Timely response?              99 non-null     object\n",
            " 11  Consumer disputed?            75 non-null     object\n",
            "dtypes: object(12)\n",
            "memory usage: 9.4+ KB\n",
            "None\n"
          ]
        }
      ]
    },
    {
      "cell_type": "code",
      "source": [
        "missing_values_sum = data.isnull().sum()\n",
        "print(\"Missing values in each column:\")\n",
        "print(missing_values_sum)"
      ],
      "metadata": {
        "colab": {
          "base_uri": "https://localhost:8080/"
        },
        "id": "wCujF8iAW9g3",
        "outputId": "d56b4fdd-9a0f-4182-f3ff-1087dbe13940"
      },
      "execution_count": 47,
      "outputs": [
        {
          "output_type": "stream",
          "name": "stdout",
          "text": [
            "Missing values in each column:\n",
            "Date received                    0\n",
            "Product                          0\n",
            "Sub-product                     13\n",
            "Consumer complaint narrative    83\n",
            "Company public response         66\n",
            "Company                          0\n",
            "State                            1\n",
            "ZIP code                        10\n",
            "Submitted via                    0\n",
            "Company response to consumer     0\n",
            "Timely response?                 0\n",
            "Consumer disputed?              24\n",
            "dtype: int64\n"
          ]
        }
      ]
    },
    {
      "cell_type": "code",
      "source": [
        "# Analysis would be state focused based only\n",
        "\n",
        "data.drop('ZIP code', axis=1, inplace=True)\n",
        "\n",
        "data.drop('Timely response?', axis=1, inplace=True)\n"
      ],
      "metadata": {
        "id": "Jku-ksGgRMjc"
      },
      "execution_count": 48,
      "outputs": []
    },
    {
      "cell_type": "code",
      "source": [
        "data['Sub-product'].fillna('Unknown', inplace=True)\n",
        "data['Consumer disputed?'].fillna('N/A', inplace=True)\n",
        "\n"
      ],
      "metadata": {
        "id": "wYTxn8g0UxkL"
      },
      "execution_count": 49,
      "outputs": []
    },
    {
      "cell_type": "code",
      "source": [
        "data.dropna(subset=['State'], inplace=True)"
      ],
      "metadata": {
        "id": "nvCmFLp5Vytd"
      },
      "execution_count": 50,
      "outputs": []
    },
    {
      "cell_type": "code",
      "source": [
        "data['Consumer complaint narrative'].fillna('Not Provided', inplace=True)\n",
        "data['Company public response'].fillna('Not Provided', inplace=True)"
      ],
      "metadata": {
        "id": "2nJUqd8LWQF_"
      },
      "execution_count": 51,
      "outputs": []
    },
    {
      "cell_type": "code",
      "source": [
        "missing_values_sum = data.isnull().sum()\n",
        "print(\"Missing values in each column:\")\n",
        "print(missing_values_sum)"
      ],
      "metadata": {
        "colab": {
          "base_uri": "https://localhost:8080/"
        },
        "id": "jZjj8TMwYk9q",
        "outputId": "3cc2485e-b7af-4034-e8f1-9de54e3e4894"
      },
      "execution_count": 52,
      "outputs": [
        {
          "output_type": "stream",
          "name": "stdout",
          "text": [
            "Missing values in each column:\n",
            "Date received                   0\n",
            "Product                         0\n",
            "Sub-product                     0\n",
            "Consumer complaint narrative    0\n",
            "Company public response         0\n",
            "Company                         0\n",
            "State                           0\n",
            "Submitted via                   0\n",
            "Company response to consumer    0\n",
            "Consumer disputed?              0\n",
            "dtype: int64\n"
          ]
        }
      ]
    },
    {
      "cell_type": "markdown",
      "source": [
        "## **Q2: Business Questions**"
      ],
      "metadata": {
        "id": "DNT-rNNlbs31"
      }
    },
    {
      "cell_type": "markdown",
      "source": [
        "**1. Product Analysis:**\n",
        "What are the top three products that customers complain about the most? For example, is it credit cards, mortgages, or something else? We want to understand what's bothering customers the most. Are there any specific patterns or trends in consumer complaints for these products?\n",
        "\n",
        "**2. Demographic Patterns:**\n",
        "Which states have the highest number of consumer complaints? Are there certain states where specific products or companies receive more complaints?Do people in certain states tend to complain more than people in other states? We're curious if there are states where people are generally happier with their products and services.\n",
        "\n",
        "**3. Consumer Disputes and Company Response:**\n",
        "Do consumer disputes vary based on the company's response to the complaint? Are there particular company responses that seem to lead to higher or lower consumer disputes? Does the way a company responds to a complaint make a difference?\n",
        "\n",
        "**4. Consumer Narratives Sentiment Analysis?**\n",
        "After performing sentiment analysis on consumer complaint narratives, which products or companies tend to receive more negative feedback? Are there common themes or issues mentioned in these negative narratives?\n",
        "\n",
        "**5. How do Consumer Complaints Vary by Submission Method?**\n",
        "Are there any differences in the types of complaints based on how customers submitted them (e.g., web, online, phone)? We're curious if certain submission methods lead to more critical complaints or if they're associated with specific products.\n"
      ],
      "metadata": {
        "id": "oOZUQl4Gb2Gf"
      }
    },
    {
      "cell_type": "markdown",
      "source": [
        "## Machine Learning Methodolgy"
      ],
      "metadata": {
        "id": "yQPttFfMe3-v"
      }
    },
    {
      "cell_type": "markdown",
      "source": [
        "**Machine Learning Methodolgy could be used to improve consumer dispute rate, the following steps could be utilized :**\n",
        "\n",
        "1. Data Preprocessing\n",
        "2. Feature Engineering\n",
        "3. Model Selection\n",
        "4. Model Evaluation\n",
        "6. Text Analysis (optional)\n",
        "\n"
      ],
      "metadata": {
        "id": "vRi6ZhhzfUCu"
      }
    }
  ]
}